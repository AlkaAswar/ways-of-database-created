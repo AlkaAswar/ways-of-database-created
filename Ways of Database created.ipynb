{
 "cells": [
  {
   "cell_type": "markdown",
   "id": "d046e9f0",
   "metadata": {},
   "source": [
    "# Using CSV,EXCEL File"
   ]
  },
  {
   "cell_type": "code",
   "execution_count": null,
   "id": "1dff8eae",
   "metadata": {},
   "outputs": [],
   "source": [
    "import pandas as pd\n",
    "df=pd.read_csv(\"weather.csv\")\n",
    "df=pd.read_excel(\"weather.xlsx\")"
   ]
  },
  {
   "cell_type": "markdown",
   "id": "ebecf465",
   "metadata": {},
   "source": [
    "# Using List"
   ]
  },
  {
   "cell_type": "code",
   "execution_count": 1,
   "id": "fd985596",
   "metadata": {},
   "outputs": [],
   "source": [
    "data={\n",
    "    \"Name\":[\"Alka\",\"Pinki\",\"Khitij\"],\n",
    "    \"Age\":[\"10\",\"20\",\"30\"],\n",
    "    \"DOB\":[\"12/02/2012\",\"23/02/1999\",\"22/12/2012\"]\n",
    "}"
   ]
  },
  {
   "cell_type": "code",
   "execution_count": 3,
   "id": "eb6fd851",
   "metadata": {},
   "outputs": [],
   "source": [
    "import pandas as pd\n",
    "data1=pd.DataFrame(data)"
   ]
  },
  {
   "cell_type": "code",
   "execution_count": 4,
   "id": "93891cd9",
   "metadata": {},
   "outputs": [
    {
     "data": {
      "text/html": [
       "<div>\n",
       "<style scoped>\n",
       "    .dataframe tbody tr th:only-of-type {\n",
       "        vertical-align: middle;\n",
       "    }\n",
       "\n",
       "    .dataframe tbody tr th {\n",
       "        vertical-align: top;\n",
       "    }\n",
       "\n",
       "    .dataframe thead th {\n",
       "        text-align: right;\n",
       "    }\n",
       "</style>\n",
       "<table border=\"1\" class=\"dataframe\">\n",
       "  <thead>\n",
       "    <tr style=\"text-align: right;\">\n",
       "      <th></th>\n",
       "      <th>Name</th>\n",
       "      <th>Age</th>\n",
       "      <th>DOB</th>\n",
       "    </tr>\n",
       "  </thead>\n",
       "  <tbody>\n",
       "    <tr>\n",
       "      <th>0</th>\n",
       "      <td>Alka</td>\n",
       "      <td>10</td>\n",
       "      <td>12/02/2012</td>\n",
       "    </tr>\n",
       "    <tr>\n",
       "      <th>1</th>\n",
       "      <td>Pinki</td>\n",
       "      <td>20</td>\n",
       "      <td>23/02/1999</td>\n",
       "    </tr>\n",
       "    <tr>\n",
       "      <th>2</th>\n",
       "      <td>Khitij</td>\n",
       "      <td>30</td>\n",
       "      <td>22/12/2012</td>\n",
       "    </tr>\n",
       "  </tbody>\n",
       "</table>\n",
       "</div>"
      ],
      "text/plain": [
       "     Name Age         DOB\n",
       "0    Alka  10  12/02/2012\n",
       "1   Pinki  20  23/02/1999\n",
       "2  Khitij  30  22/12/2012"
      ]
     },
     "execution_count": 4,
     "metadata": {},
     "output_type": "execute_result"
    }
   ],
   "source": [
    "data1"
   ]
  },
  {
   "cell_type": "markdown",
   "id": "96d64f1c",
   "metadata": {},
   "source": [
    "# Using Tuple"
   ]
  },
  {
   "cell_type": "code",
   "execution_count": 50,
   "id": "6cb49074",
   "metadata": {},
   "outputs": [],
   "source": [
    "data={ \n",
    "    \"Name\":(\"Alka\",\"Pinki\",\"Khitij\"),\n",
    "    \"Age\":(\"10\",\"20\",\"30\"),\n",
    "}"
   ]
  },
  {
   "cell_type": "code",
   "execution_count": 51,
   "id": "0fac771b",
   "metadata": {},
   "outputs": [
    {
     "data": {
      "text/html": [
       "<div>\n",
       "<style scoped>\n",
       "    .dataframe tbody tr th:only-of-type {\n",
       "        vertical-align: middle;\n",
       "    }\n",
       "\n",
       "    .dataframe tbody tr th {\n",
       "        vertical-align: top;\n",
       "    }\n",
       "\n",
       "    .dataframe thead th {\n",
       "        text-align: right;\n",
       "    }\n",
       "</style>\n",
       "<table border=\"1\" class=\"dataframe\">\n",
       "  <thead>\n",
       "    <tr style=\"text-align: right;\">\n",
       "      <th></th>\n",
       "      <th>Name</th>\n",
       "      <th>Age</th>\n",
       "    </tr>\n",
       "  </thead>\n",
       "  <tbody>\n",
       "    <tr>\n",
       "      <th>0</th>\n",
       "      <td>Alka</td>\n",
       "      <td>10</td>\n",
       "    </tr>\n",
       "    <tr>\n",
       "      <th>1</th>\n",
       "      <td>Pinki</td>\n",
       "      <td>20</td>\n",
       "    </tr>\n",
       "    <tr>\n",
       "      <th>2</th>\n",
       "      <td>Khitij</td>\n",
       "      <td>30</td>\n",
       "    </tr>\n",
       "  </tbody>\n",
       "</table>\n",
       "</div>"
      ],
      "text/plain": [
       "     Name Age\n",
       "0    Alka  10\n",
       "1   Pinki  20\n",
       "2  Khitij  30"
      ]
     },
     "execution_count": 51,
     "metadata": {},
     "output_type": "execute_result"
    }
   ],
   "source": [
    "pd.DataFrame(data)"
   ]
  },
  {
   "cell_type": "code",
   "execution_count": 52,
   "id": "1b76ae88",
   "metadata": {},
   "outputs": [],
   "source": [
    "data=[ \n",
    "    \n",
    "    (\"Alka\",\"30\",\"12/02/2012\"),\n",
    "    (\"PInki\",\"20\",\"23/02/1999\"),\n",
    "\n",
    "    (\"Kshitij\",\"34\",\"22/12/2012\")\n",
    "]"
   ]
  },
  {
   "cell_type": "code",
   "execution_count": 53,
   "id": "871aedf9",
   "metadata": {},
   "outputs": [
    {
     "data": {
      "text/html": [
       "<div>\n",
       "<style scoped>\n",
       "    .dataframe tbody tr th:only-of-type {\n",
       "        vertical-align: middle;\n",
       "    }\n",
       "\n",
       "    .dataframe tbody tr th {\n",
       "        vertical-align: top;\n",
       "    }\n",
       "\n",
       "    .dataframe thead th {\n",
       "        text-align: right;\n",
       "    }\n",
       "</style>\n",
       "<table border=\"1\" class=\"dataframe\">\n",
       "  <thead>\n",
       "    <tr style=\"text-align: right;\">\n",
       "      <th></th>\n",
       "      <th>Name</th>\n",
       "      <th>Age</th>\n",
       "      <th>DOB</th>\n",
       "    </tr>\n",
       "  </thead>\n",
       "  <tbody>\n",
       "    <tr>\n",
       "      <th>0</th>\n",
       "      <td>Alka</td>\n",
       "      <td>30</td>\n",
       "      <td>12/02/2012</td>\n",
       "    </tr>\n",
       "    <tr>\n",
       "      <th>1</th>\n",
       "      <td>PInki</td>\n",
       "      <td>20</td>\n",
       "      <td>23/02/1999</td>\n",
       "    </tr>\n",
       "    <tr>\n",
       "      <th>2</th>\n",
       "      <td>Kshitij</td>\n",
       "      <td>34</td>\n",
       "      <td>22/12/2012</td>\n",
       "    </tr>\n",
       "  </tbody>\n",
       "</table>\n",
       "</div>"
      ],
      "text/plain": [
       "      Name Age         DOB\n",
       "0     Alka  30  12/02/2012\n",
       "1    PInki  20  23/02/1999\n",
       "2  Kshitij  34  22/12/2012"
      ]
     },
     "execution_count": 53,
     "metadata": {},
     "output_type": "execute_result"
    }
   ],
   "source": [
    "pd.DataFrame(data,columns=[\"Name\",\"Age\",\"DOB\"])"
   ]
  },
  {
   "cell_type": "code",
   "execution_count": 54,
   "id": "3d6a64e1",
   "metadata": {},
   "outputs": [],
   "source": [
    "data1=[ \n",
    "    {\"Name\":\"ALKA\",\"Age\":21},\n",
    "    {\"Name\":\"pinki\",\"Age\":22}\n",
    "]\n"
   ]
  },
  {
   "cell_type": "code",
   "execution_count": 42,
   "id": "0867f2e1",
   "metadata": {},
   "outputs": [
    {
     "data": {
      "text/html": [
       "<div>\n",
       "<style scoped>\n",
       "    .dataframe tbody tr th:only-of-type {\n",
       "        vertical-align: middle;\n",
       "    }\n",
       "\n",
       "    .dataframe tbody tr th {\n",
       "        vertical-align: top;\n",
       "    }\n",
       "\n",
       "    .dataframe thead th {\n",
       "        text-align: right;\n",
       "    }\n",
       "</style>\n",
       "<table border=\"1\" class=\"dataframe\">\n",
       "  <thead>\n",
       "    <tr style=\"text-align: right;\">\n",
       "      <th></th>\n",
       "      <th>Name</th>\n",
       "      <th>Age</th>\n",
       "    </tr>\n",
       "  </thead>\n",
       "  <tbody>\n",
       "    <tr>\n",
       "      <th>0</th>\n",
       "      <td>ALKA</td>\n",
       "      <td>21</td>\n",
       "    </tr>\n",
       "    <tr>\n",
       "      <th>1</th>\n",
       "      <td>pinki</td>\n",
       "      <td>22</td>\n",
       "    </tr>\n",
       "  </tbody>\n",
       "</table>\n",
       "</div>"
      ],
      "text/plain": [
       "    Name  Age\n",
       "0   ALKA   21\n",
       "1  pinki   22"
      ]
     },
     "execution_count": 42,
     "metadata": {},
     "output_type": "execute_result"
    }
   ],
   "source": [
    "pd.DataFrame(data1)"
   ]
  },
  {
   "cell_type": "code",
   "execution_count": 65,
   "id": "4e6e4a34",
   "metadata": {},
   "outputs": [],
   "source": [
    "data1=pd.DataFrame({   \n",
    "    \"Name\":[\"ALKA\",\"Pinki\"],\n",
    "    \"Age\":[23,44]\n",
    "})\n",
    "\n",
    "data2=pd.DataFrame({\n",
    "    \"Name\":[\"ALKA\",\"Pinki\"],\n",
    "    \"Age\":[23,44]\n",
    "})\n"
   ]
  },
  {
   "cell_type": "code",
   "execution_count": 66,
   "id": "f24fa4bc",
   "metadata": {},
   "outputs": [],
   "source": [
    "with pd.ExcelWriter('DataFrames.xlsx') as writer:\n",
    "    data1.to_excel(writer,sheet_name=\"Data\")\n",
    "    data2.to_excel(writer,sheet_name=\"Frame\")"
   ]
  },
  {
   "cell_type": "code",
   "execution_count": null,
   "id": "5027a147",
   "metadata": {},
   "outputs": [],
   "source": []
  },
  {
   "cell_type": "code",
   "execution_count": null,
   "id": "0f14ab5e",
   "metadata": {},
   "outputs": [],
   "source": []
  }
 ],
 "metadata": {
  "kernelspec": {
   "display_name": "Python 3 (ipykernel)",
   "language": "python",
   "name": "python3"
  },
  "language_info": {
   "codemirror_mode": {
    "name": "ipython",
    "version": 3
   },
   "file_extension": ".py",
   "mimetype": "text/x-python",
   "name": "python",
   "nbconvert_exporter": "python",
   "pygments_lexer": "ipython3",
   "version": "3.9.7"
  }
 },
 "nbformat": 4,
 "nbformat_minor": 5
}
